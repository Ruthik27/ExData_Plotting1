{
 "cells": [
  {
   "cell_type": "code",
   "execution_count": null,
   "id": "f553b8c3",
   "metadata": {},
   "outputs": [],
   "source": []
  },
  {
   "cell_type": "code",
   "execution_count": 63,
   "id": "6b57677e",
   "metadata": {},
   "outputs": [],
   "source": [
    "import pandas as pd\n",
    "\n",
    "# Read the CSV file into a DataFrame\n",
    "df = pd.read_csv(\"housing.csv\")\n",
    "\n",
    "# Remove rows with missing values\n",
    "df = df.dropna()\n",
    "\n",
    "# Convert the object column to str (if needed)\n",
    "df['ocean_proximity'] = df['ocean_proximity'].astype(str)\n",
    "\n",
    "# Replace all occurrences of a word with another word\n",
    "df['ocean_proximity'] = df['ocean_proximity'].str.replace('NEAR BAY', '01', regex=True)\n",
    "df['ocean_proximity'] = df['ocean_proximity'].str.replace('<1H OCEAN', '02', regex=True)\n",
    "df['ocean_proximity'] = df['ocean_proximity'].str.replace('INLAND', '03', regex=True)\n",
    "df['ocean_proximity'] = df['ocean_proximity'].str.replace('NEAR OCEAN', '04', regex=True)\n",
    "df['ocean_proximity'] = df['ocean_proximity'].str.replace('ISLAND', '05', regex=True)\n",
    "\n",
    "# Convert an object column to str\n",
    "df['ocean_proximity'] = df['ocean_proximity'].astype(object).astype(float)\n",
    "\n",
    "# Write the updated DataFrame to a new CSV file\n",
    "df.to_csv('final.csv', index=False)"
   ]
  },
  {
   "cell_type": "code",
   "execution_count": 64,
   "id": "273dbc1f",
   "metadata": {},
   "outputs": [
    {
     "name": "stdout",
     "output_type": "stream",
     "text": [
      "There are no missing values in the CSV file.\n"
     ]
    }
   ],
   "source": [
    "import pandas as pd\n",
    "\n",
    "# Read the CSV file into a DataFrame\n",
    "df = pd.read_csv('final.csv')\n",
    "\n",
    "# Check for empty or NA values\n",
    "missing_values = df.isnull().sum().sum()\n",
    "\n",
    "if missing_values > 0:\n",
    "    print(\"There are missing values in the CSV file.\")\n",
    "else:\n",
    "    print(\"There are no missing values in the CSV file.\")"
   ]
  },
  {
   "cell_type": "code",
   "execution_count": 65,
   "id": "650ed9c2",
   "metadata": {},
   "outputs": [
    {
     "name": "stdout",
     "output_type": "stream",
     "text": [
      "Mean Squared Error: 0.04947722045510154\n"
     ]
    }
   ],
   "source": [
    "import pandas as pd\n",
    "from sklearn.model_selection import train_test_split\n",
    "from sklearn.ensemble import RandomForestRegressor\n",
    "from sklearn.metrics import mean_squared_error\n",
    "\n",
    "# Read the CSV file into a DataFrame\n",
    "df = pd.read_csv('final.csv')\n",
    "\n",
    "# Split the data into input features (X) and target variable (y)\n",
    "X = df.drop('ocean_proximity', axis=1)  # Input features\n",
    "y = df['ocean_proximity']  # Target variable\n",
    "\n",
    "# Split the data into training and testing sets\n",
    "X_train, X_test, y_train, y_test = train_test_split(X, y, test_size=0.2, random_state=42)\n",
    "\n",
    "# Create and train the Random Forest regression model\n",
    "model = RandomForestRegressor(n_estimators=100, random_state=42)\n",
    "model.fit(X_train, y_train)\n",
    "\n",
    "# Make predictions on the test set\n",
    "y_pred = model.predict(X_test)\n",
    "\n",
    "# Evaluate the model using mean squared error\n",
    "mse = mean_squared_error(y_test, y_pred)\n",
    "print('Mean Squared Error:', mse)"
   ]
  },
  {
   "cell_type": "code",
   "execution_count": 66,
   "id": "310f7f61",
   "metadata": {},
   "outputs": [
    {
     "ename": "SyntaxError",
     "evalue": "invalid syntax (1966666092.py, line 1)",
     "output_type": "error",
     "traceback": [
      "\u001b[1;36m  Cell \u001b[1;32mIn[66], line 1\u001b[1;36m\u001b[0m\n\u001b[1;33m    Mean Squared Error: 4509443326.343708\u001b[0m\n\u001b[1;37m         ^\u001b[0m\n\u001b[1;31mSyntaxError\u001b[0m\u001b[1;31m:\u001b[0m invalid syntax\n"
     ]
    }
   ],
   "source": [
    "Mean Squared Error: 4509443326.343708\n",
    "Mean Squared Error: 2408424402.3731775\n",
    "Mean Squared Error: 2468696938.732993\n",
    "------\n",
    "Mean Squared Error: 0.04947722045510154\n",
    "Mean Squared Error: 0.04947722045510154\n",
    "Mean Squared Error: 0.04947722045510154\n"
   ]
  },
  {
   "cell_type": "code",
   "execution_count": null,
   "id": "0bba71f6",
   "metadata": {},
   "outputs": [],
   "source": []
  },
  {
   "cell_type": "code",
   "execution_count": 69,
   "id": "fce1ba75",
   "metadata": {},
   "outputs": [],
   "source": [
    "from cryptography.hazmat.primitives import serialization\n",
    "from cryptography.hazmat.primitives.asymmetric import rsa, padding\n",
    "from cryptography.hazmat.primitives import hashes\n",
    "import csv\n",
    "\n",
    "# Generate a key pair\n",
    "private_key = rsa.generate_private_key(\n",
    "    public_exponent=65537,\n",
    "    key_size=2048\n",
    ")\n",
    "public_key = private_key.public_key()\n",
    "\n",
    "# Save the private key to a file\n",
    "with open('private_key.pem', 'wb') as f:\n",
    "    f.write(private_key.private_bytes(\n",
    "        encoding=serialization.Encoding.PEM,\n",
    "        format=serialization.PrivateFormat.PKCS8,\n",
    "        encryption_algorithm=serialization.NoEncryption()\n",
    "    ))\n",
    "\n",
    "# Save the public key to a file\n",
    "with open('public_key.pem', 'wb') as f:\n",
    "    f.write(public_key.public_bytes(\n",
    "        encoding=serialization.Encoding.PEM,\n",
    "        format=serialization.PublicFormat.SubjectPublicKeyInfo\n",
    "    ))\n",
    "\n",
    "# Load the CSV file\n",
    "with open('final.csv', 'r') as f:\n",
    "    reader = csv.reader(f)\n",
    "    data = list(reader)\n",
    "\n",
    "# Encrypt the data\n",
    "encrypted_data = []\n",
    "for row in data:\n",
    "    encrypted_row = []\n",
    "    for cell in row:\n",
    "        encrypted_cell = public_key.encrypt(\n",
    "            bytes(cell, 'utf-8'),\n",
    "            padding.OAEP(\n",
    "                mgf=padding.MGF1(algorithm=hashes.SHA256()),\n",
    "                algorithm=hashes.SHA256(),\n",
    "                label=None\n",
    "            )\n",
    "        )\n",
    "        encrypted_row.append(encrypted_cell)\n",
    "    encrypted_data.append(encrypted_row)\n",
    "\n",
    "# Save the encrypted data to a new file\n",
    "with open('enc_final.csv', 'w', newline='') as f:\n",
    "    writer = csv.writer(f)\n",
    "    writer.writerows(encrypted_data)\n"
   ]
  },
  {
   "cell_type": "code",
   "execution_count": null,
   "id": "9ebd72e2",
   "metadata": {},
   "outputs": [],
   "source": []
  },
  {
   "cell_type": "code",
   "execution_count": 73,
   "id": "78f81ecc",
   "metadata": {},
   "outputs": [],
   "source": [
    "from cryptography.hazmat.primitives import serialization\n",
    "from cryptography.hazmat.primitives.asymmetric import rsa, padding\n",
    "import csv\n",
    "\n",
    "# Load the private key\n",
    "with open('private_key.pem', 'rb') as f:\n",
    "    private_key = serialization.load_pem_private_key(\n",
    "        f.read(),\n",
    "        password=None\n",
    "    )\n",
    "\n",
    "# Load the encrypted data\n",
    "encrypted_data = []\n",
    "with open('enc_final.csv', 'r') as f:\n",
    "    reader = csv.reader(f)\n",
    "    for row in reader:\n",
    "        encrypted_row = []\n",
    "        for cell in row:\n",
    "            encrypted_row.append(eval(cell))\n",
    "        encrypted_data.append(encrypted_row)\n",
    "\n",
    "# Decrypt the data\n",
    "decrypted_data = []\n",
    "for row in encrypted_data:\n",
    "    decrypted_row = []\n",
    "    for cell in row:\n",
    "        decrypted_cell = private_key.decrypt(\n",
    "            cell,\n",
    "            padding.OAEP(\n",
    "                mgf=padding.MGF1(algorithm=hashes.SHA256()),\n",
    "                algorithm=hashes.SHA256(),\n",
    "                label=None\n",
    "            )\n",
    "        )\n",
    "        decrypted_row.append(decrypted_cell.decode('utf-8'))\n",
    "    decrypted_data.append(decrypted_row)\n",
    "\n",
    "# Save the decrypted data to a new file\n",
    "with open('dec_final.csv', 'w', newline='') as f:\n",
    "    writer = csv.writer(f)\n",
    "    writer.writerows(decrypted_data)"
   ]
  },
  {
   "cell_type": "code",
   "execution_count": null,
   "id": "8e8f92c5",
   "metadata": {},
   "outputs": [],
   "source": []
  }
 ],
 "metadata": {
  "kernelspec": {
   "display_name": "Python 3 (ipykernel)",
   "language": "python",
   "name": "python3"
  },
  "language_info": {
   "codemirror_mode": {
    "name": "ipython",
    "version": 3
   },
   "file_extension": ".py",
   "mimetype": "text/x-python",
   "name": "python",
   "nbconvert_exporter": "python",
   "pygments_lexer": "ipython3",
   "version": "3.9.16"
  }
 },
 "nbformat": 4,
 "nbformat_minor": 5
}
